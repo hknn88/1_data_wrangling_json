import pandas as pd

import json
from pandas.io.json import json_normalize

# load json as string
js=json.load((open('world_bank_projects.json')))   # _less

#js

js[0:10]   # explore the dataset

df1=pd.DataFrame(json_normalize(js,'mjtheme_namecode',['countryname','project_name']))   # 
sr1=df1.groupby('countryname').size()    # ['countryname', 'name']  .sort_index(axis=0)
sr2=sr1.sort_values(axis=0,ascending=False)

# print the top 10 countries
sr2[0:10]  

sr3=df1.groupby('name').size()    # ['countryname', 'name']  ['name','project_name']
sr3

#sr3   #.head()

sr4=sr3.sort_values(axis=0,ascending=False)

# print the top 10 major project themes
sr4[0:10] 



